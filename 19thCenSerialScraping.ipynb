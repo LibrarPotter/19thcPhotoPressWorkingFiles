{
 "metadata": {
  "name": "",
  "signature": "sha256:85dac06b07ae20a9cc23b115c87bd9871ef5859459c527eaf31f8fd5e61515c5"
 },
 "nbformat": 3,
 "nbformat_minor": 0,
 "worksheets": [
  {
   "cells": [
    {
     "cell_type": "code",
     "collapsed": false,
     "input": [
      "%matplotlib inline\n",
      "import numpy as np\n",
      "import matplotlib.pyplot as plt\n",
      "import pandas as pd\n",
      "import seaborn as sns"
     ],
     "language": "python",
     "metadata": {},
     "outputs": [],
     "prompt_number": 3
    },
    {
     "cell_type": "code",
     "collapsed": false,
     "input": [
      "from pyquery import PyQuery as pq\n",
      "import json"
     ],
     "language": "python",
     "metadata": {},
     "outputs": [],
     "prompt_number": 4
    },
    {
     "cell_type": "code",
     "collapsed": false,
     "input": [
      "#d=pq(\"19thcPhotoPressLines.txt\")\n",
      "openit = open(\"19thcPhotoPressLines.txt\")\n",
      "listofdlobjs=[line.strip() for line in openit]\n",
      "listofdicts=[json.loads(item) for item in listofdlobjs]"
     ],
     "language": "python",
     "metadata": {},
     "outputs": [],
     "prompt_number": 5
    },
    {
     "cell_type": "code",
     "collapsed": false,
     "input": [
      "fline=listofdlobjs[0]\n",
      "import json\n",
      "fdict=json.loads(fline)\n",
      "print type(fdict)\n",
      "fdict"
     ],
     "language": "python",
     "metadata": {},
     "outputs": [
      {
       "output_type": "stream",
       "stream": "stdout",
       "text": [
        "<type 'dict'>\n"
       ]
      },
      {
       "metadata": {},
       "output_type": "pyout",
       "prompt_number": 6,
       "text": [
        "{u'docs': [{u'call_num': [u'TR1 .A62'],\n",
        "   u'data_source': u'harvard_edu',\n",
        "   u'dataset_tag': u'harvard_edu_catalog_bibs_1385882476',\n",
        "   u'format': u'Serial',\n",
        "   u'height': u'14 cm',\n",
        "   u'height_numeric': 14,\n",
        "   u'holding_libs': [u'CRL', u'FAL'],\n",
        "   u'id': u'EFE2DDFC-7A7A-27F4-841E-F59045C8D1BC',\n",
        "   u'id_inst': u'002018133',\n",
        "   u'id_oclc': u'ocm06218765',\n",
        "   u'language': u'French',\n",
        "   u'lcsh': [u'Photography Periodicals.'],\n",
        "   u'loc_call_num_sort_order': [10238595],\n",
        "   u'loc_call_num_subject': [u'Technology -- Photography -- Periodicals. Societies. Almanacs. Yearbooks'],\n",
        "   u'online_avail': u'1',\n",
        "   u'pages': u'35 v',\n",
        "   u'pub_date': u'1876',\n",
        "   u'pub_date_numeric': 1876,\n",
        "   u'pub_location': u'Paris',\n",
        "   u'publisher': u'Gauthier-Villars.',\n",
        "   u'score_holding_libs': 2,\n",
        "   u'shelfrank': 1,\n",
        "   u'source_record': {u'035a': [u'ocm06218765', u'ocm09793838'],\n",
        "    u'040a': u'CRL',\n",
        "    u'040c': u'CRL',\n",
        "    u'245a': u'Aide-m\\xe9moire de photographie.',\n",
        "    u'260a': u'Paris,',\n",
        "    u'260b': u'Gauthier-Villars.',\n",
        "    u'300a': u'35 v.',\n",
        "    u'300b': u'ill.',\n",
        "    u'300c': u'14 cm.',\n",
        "    u'310a': u'Annual',\n",
        "    u'362a': u'v. 1-35; 1876-1910.',\n",
        "    u'650a': u'Photography',\n",
        "    u'650v': u'Periodicals.',\n",
        "    u'9060': u'OCLC',\n",
        "    u'988a': u'20020608',\n",
        "    u'collection': u'hollis_catalog',\n",
        "    u'score_total': u'1'},\n",
        "   u'title': u'Aide-m\\xe9moire de photographie',\n",
        "   u'title_link_friendly': u'aidememoire-de-photographie',\n",
        "   u'title_sort': u'Aide-m\\xe9moire de photographie',\n",
        "   u'url': [u'http://ezp-prod1.hul.harvard.edu/login?url=http://catalog.hathitrust.org/api/volumes/oclc/9793838.html']}],\n",
        " u'errors': [],\n",
        " u'facet_queries': [],\n",
        " u'facets': [],\n",
        " u'filter': u'id_inst:002018133',\n",
        " u'limit': u'25',\n",
        " u'num_found': 1,\n",
        " u'sort': u'shelfrank desc',\n",
        " u'start': u'0'}"
       ]
      }
     ],
     "prompt_number": 6
    },
    {
     "cell_type": "code",
     "collapsed": false,
     "input": [
      "df = pd.DataFrame.from_dict(listofdicts)\n",
      "df.head()"
     ],
     "language": "python",
     "metadata": {},
     "outputs": [
      {
       "html": [
        "<div style=\"max-height:1000px;max-width:1500px;overflow:auto;\">\n",
        "<table border=\"1\" class=\"dataframe\">\n",
        "  <thead>\n",
        "    <tr style=\"text-align: right;\">\n",
        "      <th></th>\n",
        "      <th>docs</th>\n",
        "      <th>errors</th>\n",
        "      <th>facet_queries</th>\n",
        "      <th>facets</th>\n",
        "      <th>filter</th>\n",
        "      <th>limit</th>\n",
        "      <th>num_found</th>\n",
        "      <th>sort</th>\n",
        "      <th>start</th>\n",
        "    </tr>\n",
        "  </thead>\n",
        "  <tbody>\n",
        "    <tr>\n",
        "      <th>0</th>\n",
        "      <td> [{u'source_record': {u'9060': u'OCLC', u'300a'...</td>\n",
        "      <td> []</td>\n",
        "      <td> []</td>\n",
        "      <td> []</td>\n",
        "      <td> id_inst:002018133</td>\n",
        "      <td> 25</td>\n",
        "      <td> 1</td>\n",
        "      <td> shelfrank desc</td>\n",
        "      <td> 0</td>\n",
        "    </tr>\n",
        "    <tr>\n",
        "      <th>1</th>\n",
        "      <td> [{u'publisher': u'E. Liesegang.', u'data_sourc...</td>\n",
        "      <td> []</td>\n",
        "      <td> []</td>\n",
        "      <td> []</td>\n",
        "      <td> id_inst:010530151</td>\n",
        "      <td> 25</td>\n",
        "      <td> 1</td>\n",
        "      <td> shelfrank desc</td>\n",
        "      <td> 0</td>\n",
        "    </tr>\n",
        "    <tr>\n",
        "      <th>2</th>\n",
        "      <td> [{u'source_record': {u'520a': u'\"The popular i...</td>\n",
        "      <td> []</td>\n",
        "      <td> []</td>\n",
        "      <td> []</td>\n",
        "      <td> id_inst:002014884</td>\n",
        "      <td> 25</td>\n",
        "      <td> 1</td>\n",
        "      <td> shelfrank desc</td>\n",
        "      <td> 0</td>\n",
        "    </tr>\n",
        "    <tr>\n",
        "      <th>3</th>\n",
        "      <td> [{u'source_record': {u'090a': u'TR1', u'780t':...</td>\n",
        "      <td> []</td>\n",
        "      <td> []</td>\n",
        "      <td> []</td>\n",
        "      <td> id_inst:002015625</td>\n",
        "      <td> 25</td>\n",
        "      <td> 1</td>\n",
        "      <td> shelfrank desc</td>\n",
        "      <td> 0</td>\n",
        "    </tr>\n",
        "    <tr>\n",
        "      <th>4</th>\n",
        "      <td> [{u'source_record': {u'780t': [u'Amateur photo...</td>\n",
        "      <td> []</td>\n",
        "      <td> []</td>\n",
        "      <td> []</td>\n",
        "      <td> id_inst:002015297</td>\n",
        "      <td> 25</td>\n",
        "      <td> 1</td>\n",
        "      <td> shelfrank desc</td>\n",
        "      <td> 0</td>\n",
        "    </tr>\n",
        "  </tbody>\n",
        "</table>\n",
        "</div>"
       ],
       "metadata": {},
       "output_type": "pyout",
       "prompt_number": 7,
       "text": [
        "                                                docs errors facet_queries  \\\n",
        "0  [{u'source_record': {u'9060': u'OCLC', u'300a'...     []            []   \n",
        "1  [{u'publisher': u'E. Liesegang.', u'data_sourc...     []            []   \n",
        "2  [{u'source_record': {u'520a': u'\"The popular i...     []            []   \n",
        "3  [{u'source_record': {u'090a': u'TR1', u'780t':...     []            []   \n",
        "4  [{u'source_record': {u'780t': [u'Amateur photo...     []            []   \n",
        "\n",
        "  facets             filter limit  num_found            sort start  \n",
        "0     []  id_inst:002018133    25          1  shelfrank desc     0  \n",
        "1     []  id_inst:010530151    25          1  shelfrank desc     0  \n",
        "2     []  id_inst:002014884    25          1  shelfrank desc     0  \n",
        "3     []  id_inst:002015625    25          1  shelfrank desc     0  \n",
        "4     []  id_inst:002015297    25          1  shelfrank desc     0  "
       ]
      }
     ],
     "prompt_number": 7
    },
    {
     "cell_type": "code",
     "collapsed": false,
     "input": [
      "df.shape"
     ],
     "language": "python",
     "metadata": {},
     "outputs": [
      {
       "metadata": {},
       "output_type": "pyout",
       "prompt_number": 25,
       "text": [
        "(126, 15)"
       ]
      }
     ],
     "prompt_number": 25
    },
    {
     "cell_type": "code",
     "collapsed": false,
     "input": [
      "df.docs[0]"
     ],
     "language": "python",
     "metadata": {},
     "outputs": [
      {
       "metadata": {},
       "output_type": "pyout",
       "prompt_number": 9,
       "text": [
        "[{u'call_num': [u'TR1 .A62'],\n",
        "  u'data_source': u'harvard_edu',\n",
        "  u'dataset_tag': u'harvard_edu_catalog_bibs_1385882476',\n",
        "  u'format': u'Serial',\n",
        "  u'height': u'14 cm',\n",
        "  u'height_numeric': 14,\n",
        "  u'holding_libs': [u'CRL', u'FAL'],\n",
        "  u'id': u'EFE2DDFC-7A7A-27F4-841E-F59045C8D1BC',\n",
        "  u'id_inst': u'002018133',\n",
        "  u'id_oclc': u'ocm06218765',\n",
        "  u'language': u'French',\n",
        "  u'lcsh': [u'Photography Periodicals.'],\n",
        "  u'loc_call_num_sort_order': [10238595],\n",
        "  u'loc_call_num_subject': [u'Technology -- Photography -- Periodicals. Societies. Almanacs. Yearbooks'],\n",
        "  u'online_avail': u'1',\n",
        "  u'pages': u'35 v',\n",
        "  u'pub_date': u'1876',\n",
        "  u'pub_date_numeric': 1876,\n",
        "  u'pub_location': u'Paris',\n",
        "  u'publisher': u'Gauthier-Villars.',\n",
        "  u'score_holding_libs': 2,\n",
        "  u'shelfrank': 1,\n",
        "  u'source_record': {u'035a': [u'ocm06218765', u'ocm09793838'],\n",
        "   u'040a': u'CRL',\n",
        "   u'040c': u'CRL',\n",
        "   u'245a': u'Aide-m\\xe9moire de photographie.',\n",
        "   u'260a': u'Paris,',\n",
        "   u'260b': u'Gauthier-Villars.',\n",
        "   u'300a': u'35 v.',\n",
        "   u'300b': u'ill.',\n",
        "   u'300c': u'14 cm.',\n",
        "   u'310a': u'Annual',\n",
        "   u'362a': u'v. 1-35; 1876-1910.',\n",
        "   u'650a': u'Photography',\n",
        "   u'650v': u'Periodicals.',\n",
        "   u'9060': u'OCLC',\n",
        "   u'988a': u'20020608',\n",
        "   u'collection': u'hollis_catalog',\n",
        "   u'score_total': u'1'},\n",
        "  u'title': u'Aide-m\\xe9moire de photographie',\n",
        "  u'title_link_friendly': u'aidememoire-de-photographie',\n",
        "  u'title_sort': u'Aide-m\\xe9moire de photographie',\n",
        "  u'url': [u'http://ezp-prod1.hul.harvard.edu/login?url=http://catalog.hathitrust.org/api/volumes/oclc/9793838.html']}]"
       ]
      }
     ],
     "prompt_number": 9
    },
    {
     "cell_type": "code",
     "collapsed": false,
     "input": [
      "import pprint\n",
      "pprint.pprint(listofdicts[0])"
     ],
     "language": "python",
     "metadata": {},
     "outputs": [
      {
       "output_type": "stream",
       "stream": "stdout",
       "text": [
        "{u'docs': [{u'call_num': [u'TR1 .A62'],\n",
        "            u'data_source': u'harvard_edu',\n",
        "            u'dataset_tag': u'harvard_edu_catalog_bibs_1385882476',\n",
        "            u'format': u'Serial',\n",
        "            u'height': u'14 cm',\n",
        "            u'height_numeric': 14,\n",
        "            u'holding_libs': [u'CRL', u'FAL'],\n",
        "            u'id': u'EFE2DDFC-7A7A-27F4-841E-F59045C8D1BC',\n",
        "            u'id_inst': u'002018133',\n",
        "            u'id_oclc': u'ocm06218765',\n",
        "            u'language': u'French',\n",
        "            u'lcsh': [u'Photography Periodicals.'],\n",
        "            u'loc_call_num_sort_order': [10238595],\n",
        "            u'loc_call_num_subject': [u'Technology -- Photography -- Periodicals. Societies. Almanacs. Yearbooks'],\n",
        "            u'online_avail': u'1',\n",
        "            u'pages': u'35 v',\n",
        "            u'pub_date': u'1876',\n",
        "            u'pub_date_numeric': 1876,\n",
        "            u'pub_location': u'Paris',\n",
        "            u'publisher': u'Gauthier-Villars.',\n",
        "            u'score_holding_libs': 2,\n",
        "            u'shelfrank': 1,\n",
        "            u'source_record': {u'035a': [u'ocm06218765', u'ocm09793838'],\n",
        "                               u'040a': u'CRL',\n",
        "                               u'040c': u'CRL',\n",
        "                               u'245a': u'Aide-m\\xe9moire de photographie.',\n",
        "                               u'260a': u'Paris,',\n",
        "                               u'260b': u'Gauthier-Villars.',\n",
        "                               u'300a': u'35 v.',\n",
        "                               u'300b': u'ill.',\n",
        "                               u'300c': u'14 cm.',\n",
        "                               u'310a': u'Annual',\n",
        "                               u'362a': u'v. 1-35; 1876-1910.',\n",
        "                               u'650a': u'Photography',\n",
        "                               u'650v': u'Periodicals.',\n",
        "                               u'9060': u'OCLC',\n",
        "                               u'988a': u'20020608',\n",
        "                               u'collection': u'hollis_catalog',\n",
        "                               u'score_total': u'1'},\n",
        "            u'title': u'Aide-m\\xe9moire de photographie',\n",
        "            u'title_link_friendly': u'aidememoire-de-photographie',\n",
        "            u'title_sort': u'Aide-m\\xe9moire de photographie',\n",
        "            u'url': [u'http://ezp-prod1.hul.harvard.edu/login?url=http://catalog.hathitrust.org/api/volumes/oclc/9793838.html']}],\n",
        " u'errors': [],\n",
        " u'facet_queries': [],\n",
        " u'facets': [],\n",
        " u'filter': u'id_inst:002018133',\n",
        " u'limit': u'25',\n",
        " u'num_found': 1,\n",
        " u'sort': u'shelfrank desc',\n",
        " u'start': u'0'}\n"
       ]
      }
     ],
     "prompt_number": 10
    },
    {
     "cell_type": "code",
     "collapsed": false,
     "input": [
      "[len(item['docs']) for item in listofdicts]"
     ],
     "language": "python",
     "metadata": {},
     "outputs": [
      {
       "metadata": {},
       "output_type": "pyout",
       "prompt_number": 44,
       "text": [
        "[1,\n",
        " 1,\n",
        " 1,\n",
        " 1,\n",
        " 1,\n",
        " 1,\n",
        " 1,\n",
        " 1,\n",
        " 1,\n",
        " 1,\n",
        " 1,\n",
        " 1,\n",
        " 1,\n",
        " 1,\n",
        " 1,\n",
        " 1,\n",
        " 1,\n",
        " 1,\n",
        " 1,\n",
        " 1,\n",
        " 1,\n",
        " 1,\n",
        " 1,\n",
        " 1,\n",
        " 1,\n",
        " 1,\n",
        " 1,\n",
        " 1,\n",
        " 1,\n",
        " 1,\n",
        " 1,\n",
        " 1,\n",
        " 1,\n",
        " 1,\n",
        " 1,\n",
        " 1,\n",
        " 1,\n",
        " 1,\n",
        " 1,\n",
        " 1,\n",
        " 1,\n",
        " 1,\n",
        " 1,\n",
        " 1,\n",
        " 1,\n",
        " 1,\n",
        " 1,\n",
        " 1,\n",
        " 1,\n",
        " 1,\n",
        " 1,\n",
        " 1,\n",
        " 1,\n",
        " 1,\n",
        " 1,\n",
        " 1,\n",
        " 1,\n",
        " 1,\n",
        " 1,\n",
        " 1,\n",
        " 1,\n",
        " 1,\n",
        " 1,\n",
        " 1,\n",
        " 1,\n",
        " 1,\n",
        " 1,\n",
        " 1,\n",
        " 1,\n",
        " 1,\n",
        " 1,\n",
        " 1,\n",
        " 1,\n",
        " 1,\n",
        " 1,\n",
        " 1,\n",
        " 1,\n",
        " 1,\n",
        " 1,\n",
        " 1,\n",
        " 1,\n",
        " 1,\n",
        " 1,\n",
        " 1,\n",
        " 1,\n",
        " 1,\n",
        " 1,\n",
        " 1,\n",
        " 1,\n",
        " 1,\n",
        " 1,\n",
        " 1,\n",
        " 1,\n",
        " 1,\n",
        " 1,\n",
        " 1,\n",
        " 1,\n",
        " 1,\n",
        " 1,\n",
        " 1,\n",
        " 1,\n",
        " 1,\n",
        " 1,\n",
        " 1,\n",
        " 1,\n",
        " 1,\n",
        " 1,\n",
        " 1,\n",
        " 1,\n",
        " 1,\n",
        " 1,\n",
        " 1,\n",
        " 1,\n",
        " 1,\n",
        " 1,\n",
        " 1,\n",
        " 1,\n",
        " 1,\n",
        " 1,\n",
        " 1,\n",
        " 1,\n",
        " 1,\n",
        " 1,\n",
        " 1,\n",
        " 1,\n",
        " 1]"
       ]
      }
     ],
     "prompt_number": 44
    },
    {
     "cell_type": "code",
     "collapsed": false,
     "input": [
      "def getsourcekey(key, item):\n",
      "    tempdict=item['docs'][0]['source_record']\n",
      "    if tempdict.has_key(key):\n",
      "        temp=tempdict[key]\n",
      "    else:\n",
      "        temp=\"\"\n",
      "    if temp==\"\":\n",
      "        return \"NA\"\n",
      "    else:\n",
      "        return temp"
     ],
     "language": "python",
     "metadata": {},
     "outputs": [],
     "prompt_number": 11
    },
    {
     "cell_type": "code",
     "collapsed": false,
     "input": [
      "def getfieldskey(key, item):\n",
      "    tempdict=item['docs'][0]\n",
      "    if tempdict.has_key(key):\n",
      "        temp=tempdict[key]\n",
      "    else:\n",
      "        temp=\"\"\n",
      "    if temp==\"\":\n",
      "        return \"NA\"\n",
      "    else:\n",
      "        return temp"
     ],
     "language": "python",
     "metadata": {},
     "outputs": [],
     "prompt_number": 12
    },
    {
     "cell_type": "code",
     "collapsed": false,
     "input": [
      "df=pd.DataFrame()"
     ],
     "language": "python",
     "metadata": {},
     "outputs": [],
     "prompt_number": 13
    },
    {
     "cell_type": "code",
     "collapsed": false,
     "input": [
      "[getsourcekey(\"245a\",dummy) for dummy in listofdicts][:3]\n",
      "#just to see what's happening"
     ],
     "language": "python",
     "metadata": {},
     "outputs": [
      {
       "metadata": {},
       "output_type": "pyout",
       "prompt_number": 14,
       "text": [
        "[u'Aide-m\\xe9moire de photographie.',\n",
        " u'Amateur-Photograph.',\n",
        " u'The Amateur photographer.']"
       ]
      }
     ],
     "prompt_number": 14
    },
    {
     "cell_type": "code",
     "collapsed": false,
     "input": [
      "for key in ['id_inst','pub_location', 'lcsh', 'loc_call_num_subject', 'publisher', 'pub_date_numeric', 'online_avail', 'format', 'title_sort', 'language', 'title', 'holding_libs', 'id_oclc', 'call_num', 'title_link_friendly']:\n",
      "    df[key] = [getfieldskey(key, item) for item in listofdicts]"
     ],
     "language": "python",
     "metadata": {},
     "outputs": [],
     "prompt_number": 15
    },
    {
     "cell_type": "code",
     "collapsed": false,
     "input": [
      "df.pub_location"
     ],
     "language": "python",
     "metadata": {},
     "outputs": [
      {
       "metadata": {},
       "output_type": "pyout",
       "prompt_number": 16,
       "text": [
        "0                Paris\n",
        "1              Leipzig\n",
        "2               London\n",
        "3               London\n",
        "4               London\n",
        "5               London\n",
        "6         Sutton, etc.\n",
        "7     Cincinnati, Ohio\n",
        "8       New York, N.Y.\n",
        "9             New York\n",
        "10            New York\n",
        "11            New York\n",
        "12              Boston\n",
        "13     Cleveland, Ohio\n",
        "14     Cleveland, Ohio\n",
        "...\n",
        "111             Gen\u00e8ve\n",
        "112             Gen\u00e8ve\n",
        "113             Gen\u00e8ve\n",
        "114             Paris.\n",
        "115              Havre\n",
        "116          Barcelona\n",
        "117     St. Louis, Mo.\n",
        "118     St. Louis, Mo.\n",
        "119     St. Louis, Mo.\n",
        "120     New York, N.Y.\n",
        "121    London [England\n",
        "122    London [England\n",
        "123             London\n",
        "124             London\n",
        "125             London\n",
        "Name: pub_location, Length: 126, dtype: object"
       ]
      }
     ],
     "prompt_number": 16
    },
    {
     "cell_type": "code",
     "collapsed": false,
     "input": [
      "df.pub_location = line.translate(None, './[]')"
     ],
     "language": "python",
     "metadata": {},
     "outputs": [],
     "prompt_number": 17
    },
    {
     "cell_type": "code",
     "collapsed": false,
     "input": [
      "df.to_csv('19thCenSerialsClean.csv', encoding='utf-8', index=False)"
     ],
     "language": "python",
     "metadata": {},
     "outputs": [],
     "prompt_number": 18
    },
    {
     "cell_type": "code",
     "collapsed": false,
     "input": [
      "openit.close()"
     ],
     "language": "python",
     "metadata": {},
     "outputs": [],
     "prompt_number": 29
    },
    {
     "cell_type": "code",
     "collapsed": false,
     "input": [
      "if openit.closed:\n",
      "  print 'file is closed'"
     ],
     "language": "python",
     "metadata": {},
     "outputs": [
      {
       "output_type": "stream",
       "stream": "stdout",
       "text": [
        "file is closed\n"
       ]
      }
     ],
     "prompt_number": 30
    },
    {
     "cell_type": "code",
     "collapsed": false,
     "input": [],
     "language": "python",
     "metadata": {},
     "outputs": []
    }
   ],
   "metadata": {}
  }
 ]
}